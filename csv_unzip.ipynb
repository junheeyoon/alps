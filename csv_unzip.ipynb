{
  "nbformat": 4,
  "nbformat_minor": 0,
  "metadata": {
    "colab": {
      "name": "csv_unzip.ipynb",
      "private_outputs": true,
      "provenance": [],
      "authorship_tag": "ABX9TyMi9O8yuyVJj54/LgZaWEsu",
      "include_colab_link": true
    },
    "kernelspec": {
      "name": "python3",
      "display_name": "Python 3"
    }
  },
  "cells": [
    {
      "cell_type": "markdown",
      "metadata": {
        "id": "view-in-github",
        "colab_type": "text"
      },
      "source": [
        "<a href=\"https://colab.research.google.com/github/junheeyoon/alps/blob/master/csv_unzip.ipynb\" target=\"_parent\"><img src=\"https://colab.research.google.com/assets/colab-badge.svg\" alt=\"Open In Colab\"/></a>"
      ]
    },
    {
      "cell_type": "code",
      "metadata": {
        "id": "Wlw-kz4w9Iph"
      },
      "source": [
        "from google.colab import drive\r\n",
        "drive.mount('/content/drive')\r\n",
        "\r\n",
        "# 현재 경로 확인\r\n",
        "import os\r\n",
        "print(os.path.abspath(os.curdir))\r\n",
        "\r\n",
        "# Root 경로 설정\r\n",
        "import os\r\n",
        "os.chdir('/content/drive/MyDrive/데이터분석')"
      ],
      "execution_count": null,
      "outputs": []
    },
    {
      "cell_type": "code",
      "metadata": {
        "id": "MwDrT9QM_dhC"
      },
      "source": [
        "import os\r\n",
        "\r\n",
        "count = 0\r\n",
        "for (path, dir, files) in os.walk(\"./alps/data/alps\"):\r\n",
        "    for filename in files:\r\n",
        "        ext = os.path.splitext(filename)[-1]\r\n",
        "        if ext == '.zip':\r\n",
        "            \r\n",
        "            #print(filename.replace('zip','csv'))\r\n",
        "            #count += 1\r\n",
        "            #print(\"%s/%s\" % (path, filename))\r\n",
        "            new_text = filename.split('_')[1] + '_'+ filename.split('_')[2]\r\n",
        "            all_path = path + '/' + filename\r\n",
        "            if os.path.exists('./alps/data/' + new_text.replace('zip','csv')):\r\n",
        "                count += 1\r\n",
        "            else:\r\n",
        "                #count += 1\r\n",
        "                #print(new_text)\r\n",
        "                #print('./alps/data/' + new_text.replace('zip','csv'))\r\n",
        "                import zipfile\r\n",
        "                print(all_path)\r\n",
        "                if all_path == './alps/data/alps/20190805181554_OZ_310720191000.zip':\r\n",
        "                    continue\r\n",
        "                fantasy_zip = zipfile.ZipFile(all_path)\r\n",
        "                fantasy_zip.extractall('./alps/data/')\r\n",
        "            \r\n",
        "                fantasy_zip.close()\r\n",
        "print(count)"
      ],
      "execution_count": null,
      "outputs": []
    },
    {
      "cell_type": "code",
      "metadata": {
        "id": "ld-ZMwNG9eRP"
      },
      "source": [
        "import pandas as pd\r\n",
        "path_to_data = './alps/data/OZ_280820191500.csv'\r\n",
        "\r\n",
        "df = pd.read_csv(path_to_data, encoding='cp949')\r\n",
        "\r\n",
        "# DataFrame type 확인\r\n",
        "df.head()"
      ],
      "execution_count": null,
      "outputs": []
    }
  ]
}